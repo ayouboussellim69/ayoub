{
 "cells": [
  {
   "cell_type": "markdown",
   "id": "edfd4533-19c4-4f88-852c-04509edee771",
   "metadata": {},
   "source": [
    "# Data Science Tools and Ecosystem"
   ]
  },
  {
   "cell_type": "markdown",
   "id": "89ef0bb3-b7f8-4600-8626-8aaf52f632b3",
   "metadata": {},
   "source": [
    "In this notebook, Data Science Tools and Ecosystem are summarized."
   ]
  },
  {
   "cell_type": "markdown",
   "id": "7e52fcce-21e0-4f01-a402-4283411d6a65",
   "metadata": {},
   "source": [
    "**Objectives:**"
   ]
  },
  {
   "cell_type": "markdown",
   "id": "a9d87544-e795-4228-830b-183ca304754c",
   "metadata": {},
   "source": [
    "* Java\n",
    "* R\n",
    "* C++\n",
    "* Scala\n",
    "* Python"
   ]
  },
  {
   "cell_type": "markdown",
   "id": "e9c9f831-0f5c-4790-b4c2-67123dbd64c3",
   "metadata": {},
   "source": [
    "Some of the popular languages that Data Scientists use are:"
   ]
  },
  {
   "cell_type": "code",
   "execution_count": null,
   "id": "5c26ae69-c734-441e-82df-dea2b9c23dd7",
   "metadata": {},
   "outputs": [],
   "source": []
  },
  {
   "cell_type": "markdown",
   "id": "124d05ad-7456-44d1-b91c-6affaf19eef0",
   "metadata": {
    "tags": []
   },
   "source": [
    "1- Python"
   ]
  },
  {
   "cell_type": "markdown",
   "id": "d465f7c3-8327-4bb2-b23d-6b72e5984ffa",
   "metadata": {},
   "source": [
    "2- R"
   ]
  },
  {
   "cell_type": "markdown",
   "id": "96ddc6dd-3a0f-4bd5-8798-67daaf2dcc38",
   "metadata": {},
   "source": [
    "3-c++"
   ]
  },
  {
   "cell_type": "markdown",
   "id": "bb0d1246-90ba-42fa-b735-b0d01c5d62a8",
   "metadata": {},
   "source": [
    "Some of the commonly used libraries used by Data Scientists include:"
   ]
  },
  {
   "cell_type": "markdown",
   "id": "c8cda1d6-efb1-4ee9-b655-3249b0b6cc5e",
   "metadata": {},
   "source": [
    "1- Pandas"
   ]
  },
  {
   "cell_type": "markdown",
   "id": "c19580b4-a3dd-4992-8cb8-be8b28395eb7",
   "metadata": {},
   "source": [
    "2- Numpy"
   ]
  },
  {
   "cell_type": "markdown",
   "id": "3b21b35b-933f-47f0-a2fe-3bb540e0a066",
   "metadata": {},
   "source": [
    "3- Tensor flow"
   ]
  },
  {
   "cell_type": "markdown",
   "id": "f52955f5-351b-405b-9f6f-359139806dd9",
   "metadata": {},
   "source": [
    "|Data Science | \n",
    "-----------------\n",
    "|Rstudio|\n",
    "|Apache spark|\n",
    "|Apache hadoop|"
   ]
  },
  {
   "cell_type": "markdown",
   "id": "4ea7789a-3e5b-4553-acc4-f9e66d8e625b",
   "metadata": {},
   "source": [
    "### Below are a few examples of evaluating arithmetic expressions in Python"
   ]
  },
  {
   "cell_type": "markdown",
   "id": "be3d2cd4-4cea-422e-86a8-7b9b0e47ab30",
   "metadata": {},
   "source": [
    "This a simple arithmetic expression to mutiply then add integers"
   ]
  },
  {
   "cell_type": "code",
   "execution_count": 35,
   "id": "836d50c7-32fe-4ac3-9d38-b1bc417b900c",
   "metadata": {},
   "outputs": [
    {
     "data": {
      "text/plain": [
       "17"
      ]
     },
     "execution_count": 35,
     "metadata": {},
     "output_type": "execute_result"
    }
   ],
   "source": [
    "(3*4)+5"
   ]
  },
  {
   "cell_type": "markdown",
   "id": "08d7336f-4326-40b8-8fbb-8a627dd1dc38",
   "metadata": {},
   "source": [
    "This will convert 200 minutes to hours by diving by 60"
   ]
  },
  {
   "cell_type": "code",
   "execution_count": 13,
   "id": "a4fd4702-8337-444d-af2b-f7fdf108ea54",
   "metadata": {},
   "outputs": [
    {
     "data": {
      "text/plain": [
       "3.3333333333333335"
      ]
     },
     "execution_count": 13,
     "metadata": {},
     "output_type": "execute_result"
    }
   ],
   "source": [
    "200/60"
   ]
  },
  {
   "cell_type": "markdown",
   "id": "ac245638-7bac-4b65-971c-b73bb5116412",
   "metadata": {},
   "source": [
    "## Author"
   ]
  },
  {
   "cell_type": "markdown",
   "id": "a95fde31-a9b2-4ff2-8dd4-13a2b2dfbc58",
   "metadata": {},
   "source": [
    "Ayoub"
   ]
  },
  {
   "cell_type": "code",
   "execution_count": null,
   "id": "27105f29-3ffe-423e-9546-43a630340b84",
   "metadata": {},
   "outputs": [],
   "source": []
  }
 ],
 "metadata": {
  "kernelspec": {
   "display_name": "anaconda-panel-2023.05-py310",
   "language": "python",
   "name": "conda-env-anaconda-panel-2023.05-py310-py"
  },
  "language_info": {
   "codemirror_mode": {
    "name": "ipython",
    "version": 3
   },
   "file_extension": ".py",
   "mimetype": "text/x-python",
   "name": "python",
   "nbconvert_exporter": "python",
   "pygments_lexer": "ipython3",
   "version": "3.11.4"
  }
 },
 "nbformat": 4,
 "nbformat_minor": 5
}
